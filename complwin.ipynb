{
 "cells": [
  {
   "cell_type": "code",
   "execution_count": 7,
   "id": "3b79dadd",
   "metadata": {},
   "outputs": [
    {
     "data": {
      "text/html": [
       "        <script type=\"text/javascript\">\n",
       "        window.PlotlyConfig = {MathJaxConfig: 'local'};\n",
       "        if (window.MathJax && window.MathJax.Hub && window.MathJax.Hub.Config) {window.MathJax.Hub.Config({SVG: {font: \"STIX-Web\"}});}\n",
       "        if (typeof require !== 'undefined') {\n",
       "        require.undef(\"plotly\");\n",
       "        requirejs.config({\n",
       "            paths: {\n",
       "                'plotly': ['https://cdn.plot.ly/plotly-2.12.1.min']\n",
       "            }\n",
       "        });\n",
       "        require(['plotly'], function(Plotly) {\n",
       "            window._Plotly = Plotly;\n",
       "        });\n",
       "        }\n",
       "        </script>\n",
       "        "
      ]
     },
     "metadata": {},
     "output_type": "display_data"
    }
   ],
   "source": [
    "\n",
    "\n",
    "\n",
    "import chart_studio.plotly as py\n",
    "import numpy as np \n",
    "import pandas as pd \n",
    "import sqlite3\n",
    "from collections import Counter\n",
    "import nltk\n",
    "import matplotlib.pyplot as plt\n",
    "import seaborn as sns\n",
    "from wordcloud import WordCloud, STOPWORDS\n",
    "\n",
    "\n",
    "# Plotly libraries\n",
    "import plotly.tools as tls\n",
    "import chart_studio.plotly as py\n",
    "import plotly.figure_factory as ff\n",
    "import plotly.graph_objs as go\n",
    "from plotly.offline import download_plotlyjs, init_notebook_mode, plot, iplot\n",
    "init_notebook_mode(connected=True)\n",
    "\n",
    "import os\n",
    "\n"
   ]
  },
  {
   "cell_type": "code",
   "execution_count": 8,
   "id": "0d6d342c",
   "metadata": {},
   "outputs": [
    {
     "name": "stdout",
     "output_type": "stream",
     "text": [
      "Dash Version: 2.16.1\n",
      "Dash Core Components Version: 2.13.1\n"
     ]
    }
   ],
   "source": [
    "import pandas as pd\n",
    "import plotly.graph_objs as go\n",
    "import dash\n",
    "from dash import dcc  # Import dcc directly from dash\n",
    "from dash import html\n",
    "from dash.dependencies import Input, Output\n",
    "\n",
    "# Load the data\n",
    "df = pd.read_csv(\"top_100_companies_complaints.csv\",low_memory=False)\n",
    "\n",
    "# Drop duplicate rows\n",
    "df.drop_duplicates(inplace=True)\n",
    "\n",
    "# Drop rows with any missing values\n",
    "df.dropna(how='any', inplace=True)\n",
    "\n",
    "# Drop columns with any missing values\n",
    "df.dropna(how='any', axis=1, inplace=True)\n",
    "\n",
    "\n",
    "\n",
    "import dash\n",
    "print(f\"Dash Version: {dash.__version__}\")\n",
    "\n",
    "import dash_core_components as dcc\n",
    "print(f\"Dash Core Components Version: {dcc.__version__}\")\n",
    "\n"
   ]
  },
  {
   "cell_type": "code",
   "execution_count": 12,
   "id": "d08763a2",
   "metadata": {},
   "outputs": [],
   "source": [
    "import plotly.express as px  # Import plotly.express for color scales\n",
    "\n",
    "def create_choropleth_map(company):\n",
    "    # Filter the data for the selected company and disputes\n",
    "    dispute_presence = df.loc[(df['consumer_disputed?'] == 'Yes') & (df['company'] == company)]\n",
    "\n",
    "    # Calculate the share of complaints by state\n",
    "    cross_month = pd.crosstab(dispute_presence['state'], dispute_presence['company']).apply(lambda x: x / x.sum() * 100)\n",
    "    df_complaints = pd.DataFrame(cross_month[company]).reset_index().sort_values(by=company, ascending=False).round(2)\n",
    "    df_complaints = df_complaints.rename(columns={company: 'share of complaints'})\n",
    "\n",
    "    for col in df_complaints.columns:\n",
    "        df_complaints[col] = df_complaints[col].astype(str)\n",
    "\n",
    "    # Use a color scale from plotly.express\n",
    "    colorscale = px.colors.sequential.Plasma  # You can try other color scales like 'Inferno', 'Viridis', 'Magma', etc.\n",
    "\n",
    "    df_complaints['text'] = \"State Code: \" + df_complaints['state'] + '<br>' + \\\n",
    "                            \"Share of Complaints: \" + df_complaints['share of complaints'] + '%'\n",
    "\n",
    "    data = [dict(\n",
    "        type='choropleth',\n",
    "        colorscale=colorscale,\n",
    "        locations=df_complaints['state'],\n",
    "        z=df_complaints['share of complaints'].astype(float),  # Convert to float for proper color scaling\n",
    "        locationmode='USA-states',\n",
    "        text=df_complaints['text'],\n",
    "        marker=dict(\n",
    "            line=dict(\n",
    "                color='rgb(255,255,255)',\n",
    "                width=2\n",
    "            )\n",
    "        ),\n",
    "        colorbar=dict(\n",
    "            title=\"Share of Complaints (%)\"\n",
    "        )\n",
    "    )]\n",
    "\n",
    "    layout = dict(\n",
    "        title=f'Most Complaints by State <br> {company}',\n",
    "        geo=dict(\n",
    "            scope='usa',\n",
    "            projection=dict(type='albers usa'),\n",
    "            showlakes=True,\n",
    "            lakecolor='rgb(255, 255, 255)'\n",
    "        )\n",
    "    )\n",
    "\n",
    "    fig = dict(data=data, layout=layout)\n",
    "    return fig\n",
    "\n",
    "# ... (rest of the code remains the same)"
   ]
  },
  {
   "cell_type": "code",
   "execution_count": null,
   "id": "7dbac83a",
   "metadata": {},
   "outputs": [],
   "source": [
    "\n"
   ]
  },
  {
   "cell_type": "code",
   "execution_count": 13,
   "id": "aa9fd58d",
   "metadata": {
    "scrolled": true
   },
   "outputs": [
    {
     "data": {
      "text/html": [
       "\n",
       "        <iframe\n",
       "            width=\"100%\"\n",
       "            height=\"650\"\n",
       "            src=\"http://127.0.0.1:8052/\"\n",
       "            frameborder=\"0\"\n",
       "            allowfullscreen\n",
       "            \n",
       "        ></iframe>\n",
       "        "
      ],
      "text/plain": [
       "<IPython.lib.display.IFrame at 0x2821d0c90>"
      ]
     },
     "metadata": {},
     "output_type": "display_data"
    },
    {
     "name": "stdout",
     "output_type": "stream",
     "text": [
      "---------------------------------------------------------------------------\n",
      "NotFound                                  Traceback (most recent call last)\n",
      "NotFound: 404 Not Found: The requested URL was not found on the server. If you entered the URL manually please check your spelling and try again.\n",
      "\n"
     ]
    }
   ],
   "source": [
    "app = dash.Dash(__name__)\n",
    "\n",
    "app.layout = html.Div([\n",
    "    html.H1('Customer Disputes Dashboard'),\n",
    "    html.Div([\n",
    "        dcc.Dropdown(\n",
    "            id='company-dropdown',\n",
    "            options=[{'label': company, 'value': company} for company in df['company'].unique()],\n",
    "            value=df['company'].unique()[0]  # Set the default value to the first unique company\n",
    "        )\n",
    "    ]),\n",
    "    dcc.Graph(id='choropleth-map')\n",
    "])\n",
    "\n",
    "@app.callback(\n",
    "    Output('choropleth-map', 'figure'),\n",
    "    [Input('company-dropdown', 'value')]\n",
    ")\n",
    "def update_choropleth_map(company):\n",
    "    fig = create_choropleth_map(company)\n",
    "    return fig\n",
    "\n",
    "if __name__ == '__main__':\n",
    "    app.run(debug=True, port=8052)"
   ]
  },
  {
   "cell_type": "code",
   "execution_count": null,
   "id": "4f36df3f",
   "metadata": {},
   "outputs": [],
   "source": []
  },
  {
   "cell_type": "code",
   "execution_count": null,
   "id": "7bff4e05",
   "metadata": {},
   "outputs": [],
   "source": []
  }
 ],
 "metadata": {
  "kernelspec": {
   "display_name": "Python 3 (ipykernel)",
   "language": "python",
   "name": "python3"
  },
  "language_info": {
   "codemirror_mode": {
    "name": "ipython",
    "version": 3
   },
   "file_extension": ".py",
   "mimetype": "text/x-python",
   "name": "python",
   "nbconvert_exporter": "python",
   "pygments_lexer": "ipython3",
   "version": "3.11.5"
  }
 },
 "nbformat": 4,
 "nbformat_minor": 5
}
